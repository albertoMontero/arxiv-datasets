{
 "cells": [
  {
   "cell_type": "code",
   "execution_count": 1,
   "metadata": {},
   "outputs": [
    {
     "data": {
      "text/html": [
       "<style>.container { width:80% !important; }</style>"
      ],
      "text/plain": [
       "<IPython.core.display.HTML object>"
      ]
     },
     "metadata": {},
     "output_type": "display_data"
    }
   ],
   "source": [
    "from IPython.core.display import display, HTML\n",
    "display(HTML(\"<style>.container { width:80% !important; }</style>\"))"
   ]
  },
  {
   "cell_type": "code",
   "execution_count": 2,
   "metadata": {},
   "outputs": [],
   "source": [
    "import sys\n",
    "sys.path.append('../../arxiv_cs/')\n",
    "\n",
    "%load_ext autoreload\n",
    "%autoreload 2"
   ]
  },
  {
   "cell_type": "code",
   "execution_count": 3,
   "metadata": {},
   "outputs": [],
   "source": [
    "import json\n",
    "\n",
    "from harvest import parse_chunk, get_oai_chunk"
   ]
  },
  {
   "cell_type": "code",
   "execution_count": 4,
   "metadata": {},
   "outputs": [
    {
     "name": "stdout",
     "output_type": "stream",
     "text": [
      "{'verb': 'ListRecords', 'metadataPrefix': 'arXivRaw', 'from': '2019-10-01', 'until': '2019-10-09', 'set': 'cs'}\n"
     ]
    }
   ],
   "source": [
    "parameters = {'verb': 'ListRecords', 'metadataPrefix': 'arXivRaw', 'from': '2019-10-01',\n",
    "                  'until': '2019-10-09', 'set': 'cs'}\n",
    "\n",
    "response = get_oai_chunk(parameters)"
   ]
  },
  {
   "cell_type": "code",
   "execution_count": 5,
   "metadata": {},
   "outputs": [
    {
     "data": {
      "text/plain": [
       "'<?xml version=\"1.0\" encoding=\"UTF-8\"?>\\n<OAI-PMH xmlns=\"http://www.openarchives.org/OAI/2.0/\" xmlns:xsi=\"http://www.w3.org/2001/XMLSchema-instance\" xsi:schemaLocation=\"http://www.openarchives.org/OAI/2.0/ http://www.openarchives.org/OAI/2.0/OAI-PMH.xsd\">\\n<responseDate>2019-11-05T14:37:13Z</responseDate>\\n<request verb=\"ListRecords\" until=\"2019-10-09\" from=\"2019-10-01\" metadataPrefix=\"arXivRaw\" set=\"cs\">http://export.arxiv.org/oai2</request>\\n<ListRecords>\\n<record>\\n<header>\\n <identifier>oai:arXiv.org:1207.4664</identifier>\\n <datestamp>2019-10-08</datestamp>\\n <setSpec>cs</setSpec>\\n</header>\\n<metadata>\\n <arXivRaw xmlns=\"http://arxiv.org/OAI/arXivRaw/\" xmlns:xsi=\"http://www.w3.org/2001/XMLSchema-instance\" xsi:schemaLocation=\"http://arxiv.org/OAI/arXivRaw/ http://arxiv.org/OAI/arXivRaw.xsd\">\\n <id>1207.4664</id><submitter>Alexander Mamonov V</submitter><version version=\"v1\"><date>Thu, 19 Jul 2012 13:39:08 GMT</date><size>11129kb</size><source_type>D</source_type></version><title>Quantitative ph'"
      ]
     },
     "execution_count": 5,
     "metadata": {},
     "output_type": "execute_result"
    }
   ],
   "source": [
    "response[:1000]"
   ]
  },
  {
   "cell_type": "code",
   "execution_count": 6,
   "metadata": {},
   "outputs": [],
   "source": [
    "records_parsed, resumption_token = parse_chunk(response)"
   ]
  },
  {
   "cell_type": "code",
   "execution_count": 7,
   "metadata": {},
   "outputs": [
    {
     "data": {
      "text/plain": [
       "'3996701|1001'"
      ]
     },
     "execution_count": 7,
     "metadata": {},
     "output_type": "execute_result"
    }
   ],
   "source": [
    "resumption_token"
   ]
  },
  {
   "cell_type": "code",
   "execution_count": 8,
   "metadata": {},
   "outputs": [
    {
     "data": {
      "text/plain": [
       "[{'id': '1207.4664',\n",
       "  'authors': 'Alexander V. Mamonov, Kui Ren',\n",
       "  'title': 'Quantitative photoacoustic imaging in radiative transport regime',\n",
       "  'abstract': '  The objective of quantitative photoacoustic tomography (QPAT) is to\\nreconstruct optical and thermodynamic properties of heterogeneous media from\\ndata of absorbed energy distribution inside the media. There have been\\nextensive theoretical and computational studies on the inverse problem in QPAT,\\nhowever, mostly in the diffusive regime. We present in this work some numerical\\nreconstruction algorithms for multi-source QPAT in the radiative transport\\nregime with energy data collected at either single or multiple wavelengths. We\\nshow that when the medium to be probed is non-scattering, explicit\\nreconstruction schemes can be derived to reconstruct the absorption and the\\nGruneisen coefficients. When data at multiple wavelengths are utilized, we can\\nreconstruct simultaneously the absorption, scattering and Gruneisen\\ncoefficients. We show by numerical simulations that the reconstructions are\\nstable.\\n',\n",
       "  'categories': 'physics.med-ph cs.NA math.NA physics.optics'},\n",
       " {'id': '1207.4933',\n",
       "  'authors': 'Nicholas J. McCullen, Alastair M. Rucklidge, Catherine S. E. Bale, Tim\\n  J. Foxon, and William F. Gale',\n",
       "  'title': 'Multi-parameter models of innovation diffusion on complex networks',\n",
       "  'abstract': \"  A model, applicable to a range of innovation diffusion applications with a\\nstrong peer to peer component, is developed and studied, along with methods for\\nits investigation and analysis. A particular application is to individual\\nhouseholds deciding whether to install an energy efficiency measure in their\\nhome. The model represents these individuals as nodes on a network, each with a\\nvariable representing their current state of adoption of the innovation. The\\nmotivation to adopt is composed of three terms, representing personal\\npreference, an average of each individual's network neighbours' states and a\\nsystem average, which is a measure of the current social trend. The adoption\\nstate of a node changes if a weighted linear combination of these factors\\nexceeds some threshold. Numerical simulations have been carried out, computing\\nthe average uptake after a sufficient number of time-steps over many\\nrealisations at a range of model parameter values, on various network\\ntopologies, including random (Erdos-Renyi), small world (Watts-Strogatz) and\\n(Newman's) highly clustered, community-based networks. An analytical and\\nprobabilistic approach has been developed to account for the observed\\nbehaviour, which explains the results of the numerical calculations.\\n\",\n",
       "  'categories': 'nlin.AO cs.MA cs.SI physics.soc-ph'}]"
      ]
     },
     "execution_count": 8,
     "metadata": {},
     "output_type": "execute_result"
    }
   ],
   "source": [
    "records_parsed[:2]"
   ]
  },
  {
   "cell_type": "code",
   "execution_count": 9,
   "metadata": {},
   "outputs": [],
   "source": [
    "records_json = json.loads(json.dumps(records_parsed))"
   ]
  },
  {
   "cell_type": "code",
   "execution_count": 10,
   "metadata": {},
   "outputs": [
    {
     "data": {
      "text/plain": [
       "{'id': '1207.4664',\n",
       " 'authors': 'Alexander V. Mamonov, Kui Ren',\n",
       " 'title': 'Quantitative photoacoustic imaging in radiative transport regime',\n",
       " 'abstract': '  The objective of quantitative photoacoustic tomography (QPAT) is to\\nreconstruct optical and thermodynamic properties of heterogeneous media from\\ndata of absorbed energy distribution inside the media. There have been\\nextensive theoretical and computational studies on the inverse problem in QPAT,\\nhowever, mostly in the diffusive regime. We present in this work some numerical\\nreconstruction algorithms for multi-source QPAT in the radiative transport\\nregime with energy data collected at either single or multiple wavelengths. We\\nshow that when the medium to be probed is non-scattering, explicit\\nreconstruction schemes can be derived to reconstruct the absorption and the\\nGruneisen coefficients. When data at multiple wavelengths are utilized, we can\\nreconstruct simultaneously the absorption, scattering and Gruneisen\\ncoefficients. We show by numerical simulations that the reconstructions are\\nstable.\\n',\n",
       " 'categories': 'physics.med-ph cs.NA math.NA physics.optics'}"
      ]
     },
     "execution_count": 10,
     "metadata": {},
     "output_type": "execute_result"
    }
   ],
   "source": [
    "records_json[0]"
   ]
  },
  {
   "cell_type": "code",
   "execution_count": 11,
   "metadata": {},
   "outputs": [
    {
     "data": {
      "text/plain": [
       "1000"
      ]
     },
     "execution_count": 11,
     "metadata": {},
     "output_type": "execute_result"
    }
   ],
   "source": [
    "len(records_json)"
   ]
  },
  {
   "cell_type": "code",
   "execution_count": null,
   "metadata": {},
   "outputs": [],
   "source": []
  }
 ],
 "metadata": {
  "kernelspec": {
   "display_name": "Python [conda env:ds] *",
   "language": "python",
   "name": "conda-env-ds-py"
  },
  "language_info": {
   "codemirror_mode": {
    "name": "ipython",
    "version": 3
   },
   "file_extension": ".py",
   "mimetype": "text/x-python",
   "name": "python",
   "nbconvert_exporter": "python",
   "pygments_lexer": "ipython3",
   "version": "3.7.4"
  }
 },
 "nbformat": 4,
 "nbformat_minor": 2
}

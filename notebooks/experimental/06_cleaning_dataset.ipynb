{
 "cells": [
  {
   "cell_type": "code",
   "execution_count": 1,
   "metadata": {},
   "outputs": [
    {
     "data": {
      "text/html": [
       "<style>.container { width:80% !important; }</style>"
      ],
      "text/plain": [
       "<IPython.core.display.HTML object>"
      ]
     },
     "metadata": {},
     "output_type": "display_data"
    }
   ],
   "source": [
    "from IPython.core.display import display, HTML\n",
    "display(HTML(\"<style>.container { width:80% !important; }</style>\"))"
   ]
  },
  {
   "cell_type": "code",
   "execution_count": 2,
   "metadata": {},
   "outputs": [],
   "source": [
    "import sys\n",
    "sys.path.append('../../arxiv_cs/')\n",
    "\n",
    "%load_ext autoreload\n",
    "%autoreload 2"
   ]
  },
  {
   "cell_type": "code",
   "execution_count": 3,
   "metadata": {},
   "outputs": [],
   "source": [
    "import json\n",
    "import pandas as pd\n",
    "import gzip\n",
    "from pathlib import Path\n",
    "from collections import Counter\n",
    "import datetime\n",
    "import re\n",
    "\n",
    "from utils import extract_date"
   ]
  },
  {
   "cell_type": "code",
   "execution_count": 4,
   "metadata": {},
   "outputs": [],
   "source": [
    "DATA_CLEAN_PATH = Path(\"../../data/clean\")\n",
    "DATA_PROCESSED_PATH = Path(\"../../data/processed\")\n",
    "DATA_TEST_PATH = Path(\"../../data/test\")"
   ]
  },
  {
   "cell_type": "code",
   "execution_count": 5,
   "metadata": {},
   "outputs": [
    {
     "data": {
      "text/html": [
       "<div>\n",
       "<style scoped>\n",
       "    .dataframe tbody tr th:only-of-type {\n",
       "        vertical-align: middle;\n",
       "    }\n",
       "\n",
       "    .dataframe tbody tr th {\n",
       "        vertical-align: top;\n",
       "    }\n",
       "\n",
       "    .dataframe thead th {\n",
       "        text-align: right;\n",
       "    }\n",
       "</style>\n",
       "<table border=\"1\" class=\"dataframe\">\n",
       "  <thead>\n",
       "    <tr style=\"text-align: right;\">\n",
       "      <th></th>\n",
       "      <th>id</th>\n",
       "      <th>authors</th>\n",
       "      <th>title</th>\n",
       "      <th>abstract</th>\n",
       "      <th>categories</th>\n",
       "    </tr>\n",
       "  </thead>\n",
       "  <tbody>\n",
       "    <tr>\n",
       "      <th>0</th>\n",
       "      <td>0704.0002</td>\n",
       "      <td>Ileana Streinu and Louis Theran</td>\n",
       "      <td>Sparsity-certifying Graph Decompositions</td>\n",
       "      <td>We describe a new algorithm, the $(k,\\ell)$-pe...</td>\n",
       "      <td>math.CO cs.CG</td>\n",
       "    </tr>\n",
       "    <tr>\n",
       "      <th>1</th>\n",
       "      <td>0704.0046</td>\n",
       "      <td>I. Csiszar, F. Hiai and D. Petz</td>\n",
       "      <td>A limit relation for entropy and channel capac...</td>\n",
       "      <td>In a quantum mechanical model, Diosi, Feldmann...</td>\n",
       "      <td>quant-ph cs.IT math.IT</td>\n",
       "    </tr>\n",
       "    <tr>\n",
       "      <th>2</th>\n",
       "      <td>0704.0047</td>\n",
       "      <td>T. Kosel and I. Grabec</td>\n",
       "      <td>Intelligent location of simultaneously active ...</td>\n",
       "      <td>The intelligent acoustic emission locator is d...</td>\n",
       "      <td>cs.NE cs.AI</td>\n",
       "    </tr>\n",
       "    <tr>\n",
       "      <th>3</th>\n",
       "      <td>0704.0050</td>\n",
       "      <td>T. Kosel and I. Grabec</td>\n",
       "      <td>Intelligent location of simultaneously active ...</td>\n",
       "      <td>Part I describes an intelligent acoustic emiss...</td>\n",
       "      <td>cs.NE cs.AI</td>\n",
       "    </tr>\n",
       "    <tr>\n",
       "      <th>4</th>\n",
       "      <td>0704.0062</td>\n",
       "      <td>Rastislav \\v{S}r\\'amek, Bro\\v{n}a Brejov\\'a, T...</td>\n",
       "      <td>On-line Viterbi Algorithm and Its Relationship...</td>\n",
       "      <td>In this paper, we introduce the on-line Viterb...</td>\n",
       "      <td>cs.DS</td>\n",
       "    </tr>\n",
       "  </tbody>\n",
       "</table>\n",
       "</div>"
      ],
      "text/plain": [
       "          id                                            authors  \\\n",
       "0  0704.0002                    Ileana Streinu and Louis Theran   \n",
       "1  0704.0046                    I. Csiszar, F. Hiai and D. Petz   \n",
       "2  0704.0047                             T. Kosel and I. Grabec   \n",
       "3  0704.0050                             T. Kosel and I. Grabec   \n",
       "4  0704.0062  Rastislav \\v{S}r\\'amek, Bro\\v{n}a Brejov\\'a, T...   \n",
       "\n",
       "                                               title  \\\n",
       "0           Sparsity-certifying Graph Decompositions   \n",
       "1  A limit relation for entropy and channel capac...   \n",
       "2  Intelligent location of simultaneously active ...   \n",
       "3  Intelligent location of simultaneously active ...   \n",
       "4  On-line Viterbi Algorithm and Its Relationship...   \n",
       "\n",
       "                                            abstract              categories  \n",
       "0  We describe a new algorithm, the $(k,\\ell)$-pe...           math.CO cs.CG  \n",
       "1  In a quantum mechanical model, Diosi, Feldmann...  quant-ph cs.IT math.IT  \n",
       "2  The intelligent acoustic emission locator is d...             cs.NE cs.AI  \n",
       "3  Part I describes an intelligent acoustic emiss...             cs.NE cs.AI  \n",
       "4  In this paper, we introduce the on-line Viterb...                   cs.DS  "
      ]
     },
     "execution_count": 5,
     "metadata": {},
     "output_type": "execute_result"
    }
   ],
   "source": [
    "df = pd.read_json(DATA_PROCESSED_PATH / \"arxiv_cs.json.gz\")\n",
    "\n",
    "df.head()"
   ]
  },
  {
   "cell_type": "markdown",
   "metadata": {},
   "source": [
    "#### Create field with date\n",
    "* Identifiers since 1 April 2007 (0704-) have year and month encoded in first 4 digits of id field.\n",
    "* Identifiers up to March 2007 (9107-0703) have also category encoded in id field.\n",
    "* See https://arxiv.org/help/arxiv_identifier"
   ]
  },
  {
   "cell_type": "code",
   "execution_count": 6,
   "metadata": {},
   "outputs": [
    {
     "data": {
      "text/html": [
       "<div>\n",
       "<style scoped>\n",
       "    .dataframe tbody tr th:only-of-type {\n",
       "        vertical-align: middle;\n",
       "    }\n",
       "\n",
       "    .dataframe tbody tr th {\n",
       "        vertical-align: top;\n",
       "    }\n",
       "\n",
       "    .dataframe thead th {\n",
       "        text-align: right;\n",
       "    }\n",
       "</style>\n",
       "<table border=\"1\" class=\"dataframe\">\n",
       "  <thead>\n",
       "    <tr style=\"text-align: right;\">\n",
       "      <th></th>\n",
       "      <th>id</th>\n",
       "      <th>authors</th>\n",
       "      <th>title</th>\n",
       "      <th>abstract</th>\n",
       "      <th>categories</th>\n",
       "      <th>date</th>\n",
       "    </tr>\n",
       "  </thead>\n",
       "  <tbody>\n",
       "    <tr>\n",
       "      <th>0</th>\n",
       "      <td>0704.0002</td>\n",
       "      <td>Ileana Streinu and Louis Theran</td>\n",
       "      <td>Sparsity-certifying Graph Decompositions</td>\n",
       "      <td>We describe a new algorithm, the $(k,\\ell)$-pe...</td>\n",
       "      <td>math.CO cs.CG</td>\n",
       "      <td>2007-04-01</td>\n",
       "    </tr>\n",
       "    <tr>\n",
       "      <th>1</th>\n",
       "      <td>0704.0046</td>\n",
       "      <td>I. Csiszar, F. Hiai and D. Petz</td>\n",
       "      <td>A limit relation for entropy and channel capac...</td>\n",
       "      <td>In a quantum mechanical model, Diosi, Feldmann...</td>\n",
       "      <td>quant-ph cs.IT math.IT</td>\n",
       "      <td>2007-04-01</td>\n",
       "    </tr>\n",
       "    <tr>\n",
       "      <th>2</th>\n",
       "      <td>0704.0047</td>\n",
       "      <td>T. Kosel and I. Grabec</td>\n",
       "      <td>Intelligent location of simultaneously active ...</td>\n",
       "      <td>The intelligent acoustic emission locator is d...</td>\n",
       "      <td>cs.NE cs.AI</td>\n",
       "      <td>2007-04-01</td>\n",
       "    </tr>\n",
       "    <tr>\n",
       "      <th>3</th>\n",
       "      <td>0704.0050</td>\n",
       "      <td>T. Kosel and I. Grabec</td>\n",
       "      <td>Intelligent location of simultaneously active ...</td>\n",
       "      <td>Part I describes an intelligent acoustic emiss...</td>\n",
       "      <td>cs.NE cs.AI</td>\n",
       "      <td>2007-04-01</td>\n",
       "    </tr>\n",
       "    <tr>\n",
       "      <th>4</th>\n",
       "      <td>0704.0062</td>\n",
       "      <td>Rastislav \\v{S}r\\'amek, Bro\\v{n}a Brejov\\'a, T...</td>\n",
       "      <td>On-line Viterbi Algorithm and Its Relationship...</td>\n",
       "      <td>In this paper, we introduce the on-line Viterb...</td>\n",
       "      <td>cs.DS</td>\n",
       "      <td>2007-04-01</td>\n",
       "    </tr>\n",
       "  </tbody>\n",
       "</table>\n",
       "</div>"
      ],
      "text/plain": [
       "          id                                            authors  \\\n",
       "0  0704.0002                    Ileana Streinu and Louis Theran   \n",
       "1  0704.0046                    I. Csiszar, F. Hiai and D. Petz   \n",
       "2  0704.0047                             T. Kosel and I. Grabec   \n",
       "3  0704.0050                             T. Kosel and I. Grabec   \n",
       "4  0704.0062  Rastislav \\v{S}r\\'amek, Bro\\v{n}a Brejov\\'a, T...   \n",
       "\n",
       "                                               title  \\\n",
       "0           Sparsity-certifying Graph Decompositions   \n",
       "1  A limit relation for entropy and channel capac...   \n",
       "2  Intelligent location of simultaneously active ...   \n",
       "3  Intelligent location of simultaneously active ...   \n",
       "4  On-line Viterbi Algorithm and Its Relationship...   \n",
       "\n",
       "                                            abstract              categories  \\\n",
       "0  We describe a new algorithm, the $(k,\\ell)$-pe...           math.CO cs.CG   \n",
       "1  In a quantum mechanical model, Diosi, Feldmann...  quant-ph cs.IT math.IT   \n",
       "2  The intelligent acoustic emission locator is d...             cs.NE cs.AI   \n",
       "3  Part I describes an intelligent acoustic emiss...             cs.NE cs.AI   \n",
       "4  In this paper, we introduce the on-line Viterb...                   cs.DS   \n",
       "\n",
       "         date  \n",
       "0  2007-04-01  \n",
       "1  2007-04-01  \n",
       "2  2007-04-01  \n",
       "3  2007-04-01  \n",
       "4  2007-04-01  "
      ]
     },
     "execution_count": 6,
     "metadata": {},
     "output_type": "execute_result"
    }
   ],
   "source": [
    "df['date'] = extract_date(df.id.to_list())\n",
    "\n",
    "df.head()"
   ]
  },
  {
   "cell_type": "code",
   "execution_count": 7,
   "metadata": {},
   "outputs": [
    {
     "data": {
      "text/plain": [
       "(datetime.date(1993, 1, 1), datetime.date(2019, 11, 1))"
      ]
     },
     "execution_count": 7,
     "metadata": {},
     "output_type": "execute_result"
    }
   ],
   "source": [
    "df.date.min(), df.date.max()"
   ]
  },
  {
   "cell_type": "markdown",
   "metadata": {},
   "source": [
    "#### Remove records from November"
   ]
  },
  {
   "cell_type": "code",
   "execution_count": 8,
   "metadata": {},
   "outputs": [
    {
     "data": {
      "text/plain": [
       "947"
      ]
     },
     "execution_count": 8,
     "metadata": {},
     "output_type": "execute_result"
    }
   ],
   "source": [
    "sum(df.date > datetime.date(2019, 10, 31))"
   ]
  },
  {
   "cell_type": "code",
   "execution_count": 9,
   "metadata": {},
   "outputs": [],
   "source": [
    "nov_idxs = df[df.date > datetime.date(2019, 10, 31)].index"
   ]
  },
  {
   "cell_type": "code",
   "execution_count": 10,
   "metadata": {},
   "outputs": [
    {
     "data": {
      "text/plain": [
       "(0, 240329)"
      ]
     },
     "execution_count": 10,
     "metadata": {},
     "output_type": "execute_result"
    }
   ],
   "source": [
    "df.drop(nov_idxs, inplace=True)\n",
    "sum(df.date > datetime.date(2019, 10, 31)), len(df)"
   ]
  },
  {
   "cell_type": "code",
   "execution_count": 11,
   "metadata": {},
   "outputs": [
    {
     "data": {
      "text/html": [
       "<div>\n",
       "<style scoped>\n",
       "    .dataframe tbody tr th:only-of-type {\n",
       "        vertical-align: middle;\n",
       "    }\n",
       "\n",
       "    .dataframe tbody tr th {\n",
       "        vertical-align: top;\n",
       "    }\n",
       "\n",
       "    .dataframe thead th {\n",
       "        text-align: right;\n",
       "    }\n",
       "</style>\n",
       "<table border=\"1\" class=\"dataframe\">\n",
       "  <thead>\n",
       "    <tr style=\"text-align: right;\">\n",
       "      <th></th>\n",
       "      <th>id</th>\n",
       "      <th>authors</th>\n",
       "      <th>title</th>\n",
       "      <th>abstract</th>\n",
       "      <th>categories</th>\n",
       "      <th>date</th>\n",
       "    </tr>\n",
       "  </thead>\n",
       "  <tbody>\n",
       "    <tr>\n",
       "      <th>0</th>\n",
       "      <td>0704.0002</td>\n",
       "      <td>Ileana Streinu and Louis Theran</td>\n",
       "      <td>Sparsity-certifying Graph Decompositions</td>\n",
       "      <td>We describe a new algorithm, the $(k,\\ell)$-pe...</td>\n",
       "      <td>math.CO cs.CG</td>\n",
       "      <td>2007-04-01</td>\n",
       "    </tr>\n",
       "    <tr>\n",
       "      <th>1</th>\n",
       "      <td>0704.0046</td>\n",
       "      <td>I. Csiszar, F. Hiai and D. Petz</td>\n",
       "      <td>A limit relation for entropy and channel capac...</td>\n",
       "      <td>In a quantum mechanical model, Diosi, Feldmann...</td>\n",
       "      <td>quant-ph cs.IT math.IT</td>\n",
       "      <td>2007-04-01</td>\n",
       "    </tr>\n",
       "    <tr>\n",
       "      <th>2</th>\n",
       "      <td>0704.0047</td>\n",
       "      <td>T. Kosel and I. Grabec</td>\n",
       "      <td>Intelligent location of simultaneously active ...</td>\n",
       "      <td>The intelligent acoustic emission locator is d...</td>\n",
       "      <td>cs.NE cs.AI</td>\n",
       "      <td>2007-04-01</td>\n",
       "    </tr>\n",
       "    <tr>\n",
       "      <th>3</th>\n",
       "      <td>0704.0050</td>\n",
       "      <td>T. Kosel and I. Grabec</td>\n",
       "      <td>Intelligent location of simultaneously active ...</td>\n",
       "      <td>Part I describes an intelligent acoustic emiss...</td>\n",
       "      <td>cs.NE cs.AI</td>\n",
       "      <td>2007-04-01</td>\n",
       "    </tr>\n",
       "    <tr>\n",
       "      <th>4</th>\n",
       "      <td>0704.0062</td>\n",
       "      <td>Rastislav \\v{S}r\\'amek, Bro\\v{n}a Brejov\\'a, T...</td>\n",
       "      <td>On-line Viterbi Algorithm and Its Relationship...</td>\n",
       "      <td>In this paper, we introduce the on-line Viterb...</td>\n",
       "      <td>cs.DS</td>\n",
       "      <td>2007-04-01</td>\n",
       "    </tr>\n",
       "  </tbody>\n",
       "</table>\n",
       "</div>"
      ],
      "text/plain": [
       "          id                                            authors  \\\n",
       "0  0704.0002                    Ileana Streinu and Louis Theran   \n",
       "1  0704.0046                    I. Csiszar, F. Hiai and D. Petz   \n",
       "2  0704.0047                             T. Kosel and I. Grabec   \n",
       "3  0704.0050                             T. Kosel and I. Grabec   \n",
       "4  0704.0062  Rastislav \\v{S}r\\'amek, Bro\\v{n}a Brejov\\'a, T...   \n",
       "\n",
       "                                               title  \\\n",
       "0           Sparsity-certifying Graph Decompositions   \n",
       "1  A limit relation for entropy and channel capac...   \n",
       "2  Intelligent location of simultaneously active ...   \n",
       "3  Intelligent location of simultaneously active ...   \n",
       "4  On-line Viterbi Algorithm and Its Relationship...   \n",
       "\n",
       "                                            abstract              categories  \\\n",
       "0  We describe a new algorithm, the $(k,\\ell)$-pe...           math.CO cs.CG   \n",
       "1  In a quantum mechanical model, Diosi, Feldmann...  quant-ph cs.IT math.IT   \n",
       "2  The intelligent acoustic emission locator is d...             cs.NE cs.AI   \n",
       "3  Part I describes an intelligent acoustic emiss...             cs.NE cs.AI   \n",
       "4  In this paper, we introduce the on-line Viterb...                   cs.DS   \n",
       "\n",
       "         date  \n",
       "0  2007-04-01  \n",
       "1  2007-04-01  \n",
       "2  2007-04-01  \n",
       "3  2007-04-01  \n",
       "4  2007-04-01  "
      ]
     },
     "execution_count": 11,
     "metadata": {},
     "output_type": "execute_result"
    }
   ],
   "source": [
    "df.head()"
   ]
  },
  {
   "cell_type": "code",
   "execution_count": 12,
   "metadata": {},
   "outputs": [
    {
     "data": {
      "text/plain": [
       "(datetime.date(1993, 1, 1), datetime.date(2019, 10, 1))"
      ]
     },
     "execution_count": 12,
     "metadata": {},
     "output_type": "execute_result"
    }
   ],
   "source": [
    "df.date.min(), df.date.max()"
   ]
  },
  {
   "cell_type": "code",
   "execution_count": 13,
   "metadata": {},
   "outputs": [
    {
     "data": {
      "text/html": [
       "<div>\n",
       "<style scoped>\n",
       "    .dataframe tbody tr th:only-of-type {\n",
       "        vertical-align: middle;\n",
       "    }\n",
       "\n",
       "    .dataframe tbody tr th {\n",
       "        vertical-align: top;\n",
       "    }\n",
       "\n",
       "    .dataframe thead th {\n",
       "        text-align: right;\n",
       "    }\n",
       "</style>\n",
       "<table border=\"1\" class=\"dataframe\">\n",
       "  <thead>\n",
       "    <tr style=\"text-align: right;\">\n",
       "      <th></th>\n",
       "      <th>id</th>\n",
       "      <th>title</th>\n",
       "      <th>abstract</th>\n",
       "      <th>categories</th>\n",
       "    </tr>\n",
       "  </thead>\n",
       "  <tbody>\n",
       "    <tr>\n",
       "      <th>0</th>\n",
       "      <td>0704.0002</td>\n",
       "      <td>Sparsity-certifying Graph Decompositions</td>\n",
       "      <td>We describe a new algorithm, the $(k,\\ell)$-pe...</td>\n",
       "      <td>math.CO cs.CG</td>\n",
       "    </tr>\n",
       "    <tr>\n",
       "      <th>1</th>\n",
       "      <td>0704.0046</td>\n",
       "      <td>A limit relation for entropy and channel capac...</td>\n",
       "      <td>In a quantum mechanical model, Diosi, Feldmann...</td>\n",
       "      <td>quant-ph cs.IT math.IT</td>\n",
       "    </tr>\n",
       "    <tr>\n",
       "      <th>2</th>\n",
       "      <td>0704.0047</td>\n",
       "      <td>Intelligent location of simultaneously active ...</td>\n",
       "      <td>The intelligent acoustic emission locator is d...</td>\n",
       "      <td>cs.NE cs.AI</td>\n",
       "    </tr>\n",
       "    <tr>\n",
       "      <th>3</th>\n",
       "      <td>0704.0050</td>\n",
       "      <td>Intelligent location of simultaneously active ...</td>\n",
       "      <td>Part I describes an intelligent acoustic emiss...</td>\n",
       "      <td>cs.NE cs.AI</td>\n",
       "    </tr>\n",
       "    <tr>\n",
       "      <th>4</th>\n",
       "      <td>0704.0062</td>\n",
       "      <td>On-line Viterbi Algorithm and Its Relationship...</td>\n",
       "      <td>In this paper, we introduce the on-line Viterb...</td>\n",
       "      <td>cs.DS</td>\n",
       "    </tr>\n",
       "  </tbody>\n",
       "</table>\n",
       "</div>"
      ],
      "text/plain": [
       "          id                                              title  \\\n",
       "0  0704.0002           Sparsity-certifying Graph Decompositions   \n",
       "1  0704.0046  A limit relation for entropy and channel capac...   \n",
       "2  0704.0047  Intelligent location of simultaneously active ...   \n",
       "3  0704.0050  Intelligent location of simultaneously active ...   \n",
       "4  0704.0062  On-line Viterbi Algorithm and Its Relationship...   \n",
       "\n",
       "                                            abstract              categories  \n",
       "0  We describe a new algorithm, the $(k,\\ell)$-pe...           math.CO cs.CG  \n",
       "1  In a quantum mechanical model, Diosi, Feldmann...  quant-ph cs.IT math.IT  \n",
       "2  The intelligent acoustic emission locator is d...             cs.NE cs.AI  \n",
       "3  Part I describes an intelligent acoustic emiss...             cs.NE cs.AI  \n",
       "4  In this paper, we introduce the on-line Viterb...                   cs.DS  "
      ]
     },
     "execution_count": 13,
     "metadata": {},
     "output_type": "execute_result"
    }
   ],
   "source": [
    "# remove date column and authors\n",
    "\n",
    "df.drop(columns=['date', 'authors'], inplace=True)\n",
    "df.head()"
   ]
  },
  {
   "cell_type": "markdown",
   "metadata": {},
   "source": [
    "#### Let's take a look to duplicates"
   ]
  },
  {
   "cell_type": "code",
   "execution_count": 14,
   "metadata": {},
   "outputs": [
    {
     "data": {
      "text/html": [
       "<div>\n",
       "<style scoped>\n",
       "    .dataframe tbody tr th:only-of-type {\n",
       "        vertical-align: middle;\n",
       "    }\n",
       "\n",
       "    .dataframe tbody tr th {\n",
       "        vertical-align: top;\n",
       "    }\n",
       "\n",
       "    .dataframe thead th {\n",
       "        text-align: right;\n",
       "    }\n",
       "</style>\n",
       "<table border=\"1\" class=\"dataframe\">\n",
       "  <thead>\n",
       "    <tr style=\"text-align: right;\">\n",
       "      <th></th>\n",
       "      <th>id</th>\n",
       "      <th>title</th>\n",
       "      <th>abstract</th>\n",
       "      <th>categories</th>\n",
       "    </tr>\n",
       "  </thead>\n",
       "  <tbody>\n",
       "    <tr>\n",
       "      <th>count</th>\n",
       "      <td>240329</td>\n",
       "      <td>240329</td>\n",
       "      <td>240329</td>\n",
       "      <td>240329</td>\n",
       "    </tr>\n",
       "    <tr>\n",
       "      <th>unique</th>\n",
       "      <td>240329</td>\n",
       "      <td>240020</td>\n",
       "      <td>240098</td>\n",
       "      <td>20507</td>\n",
       "    </tr>\n",
       "    <tr>\n",
       "      <th>top</th>\n",
       "      <td>cs/0407013</td>\n",
       "      <td>Discussion: Latent variable graphical model se...</td>\n",
       "      <td>This paper has been withdrawn.</td>\n",
       "      <td>cs.CV</td>\n",
       "    </tr>\n",
       "    <tr>\n",
       "      <th>freq</th>\n",
       "      <td>1</td>\n",
       "      <td>4</td>\n",
       "      <td>10</td>\n",
       "      <td>19512</td>\n",
       "    </tr>\n",
       "  </tbody>\n",
       "</table>\n",
       "</div>"
      ],
      "text/plain": [
       "                id                                              title  \\\n",
       "count       240329                                             240329   \n",
       "unique      240329                                             240020   \n",
       "top     cs/0407013  Discussion: Latent variable graphical model se...   \n",
       "freq             1                                                  4   \n",
       "\n",
       "                              abstract categories  \n",
       "count                           240329     240329  \n",
       "unique                          240098      20507  \n",
       "top     This paper has been withdrawn.      cs.CV  \n",
       "freq                                10      19512  "
      ]
     },
     "execution_count": 14,
     "metadata": {},
     "output_type": "execute_result"
    }
   ],
   "source": [
    "df.describe()"
   ]
  },
  {
   "cell_type": "code",
   "execution_count": 15,
   "metadata": {},
   "outputs": [
    {
     "data": {
      "text/plain": [
       "count                             240329\n",
       "unique                            240098\n",
       "top       This paper has been withdrawn.\n",
       "freq                                  10\n",
       "Name: abstract, dtype: object"
      ]
     },
     "execution_count": 15,
     "metadata": {},
     "output_type": "execute_result"
    }
   ],
   "source": [
    "df.describe().abstract"
   ]
  },
  {
   "cell_type": "markdown",
   "metadata": {},
   "source": [
    "#### It seems to be some duplicates, some of them have been withdrawn. Let's remove them."
   ]
  },
  {
   "cell_type": "code",
   "execution_count": 16,
   "metadata": {},
   "outputs": [
    {
     "data": {
      "text/plain": [
       "142"
      ]
     },
     "execution_count": 16,
     "metadata": {},
     "output_type": "execute_result"
    }
   ],
   "source": [
    "# sum(df.abstract == \"This paper has been withdrawn.\")\n",
    "sum(df.abstract.str.lower().str.contains(\"has been withdrawn\"))"
   ]
  },
  {
   "cell_type": "code",
   "execution_count": 17,
   "metadata": {},
   "outputs": [
    {
     "data": {
      "text/plain": [
       "231"
      ]
     },
     "execution_count": 17,
     "metadata": {},
     "output_type": "execute_result"
    }
   ],
   "source": [
    "sum(df.abstract.duplicated())"
   ]
  },
  {
   "cell_type": "code",
   "execution_count": 18,
   "metadata": {},
   "outputs": [
    {
     "data": {
      "text/html": [
       "<div>\n",
       "<style scoped>\n",
       "    .dataframe tbody tr th:only-of-type {\n",
       "        vertical-align: middle;\n",
       "    }\n",
       "\n",
       "    .dataframe tbody tr th {\n",
       "        vertical-align: top;\n",
       "    }\n",
       "\n",
       "    .dataframe thead th {\n",
       "        text-align: right;\n",
       "    }\n",
       "</style>\n",
       "<table border=\"1\" class=\"dataframe\">\n",
       "  <thead>\n",
       "    <tr style=\"text-align: right;\">\n",
       "      <th></th>\n",
       "      <th>id</th>\n",
       "      <th>title</th>\n",
       "      <th>abstract</th>\n",
       "      <th>categories</th>\n",
       "    </tr>\n",
       "  </thead>\n",
       "  <tbody>\n",
       "    <tr>\n",
       "      <th>564</th>\n",
       "      <td>0706.2732</td>\n",
       "      <td>A Design Methodology for Space-Time Adapter</td>\n",
       "      <td>This paper presents a solution to efficiently ...</td>\n",
       "      <td>cs.AR</td>\n",
       "    </tr>\n",
       "    <tr>\n",
       "      <th>1256</th>\n",
       "      <td>0709.4303</td>\n",
       "      <td>Security Analyses of One-time System</td>\n",
       "      <td>This paper has been withdrawn</td>\n",
       "      <td>cs.CR</td>\n",
       "    </tr>\n",
       "    <tr>\n",
       "      <th>1258</th>\n",
       "      <td>0709.4420</td>\n",
       "      <td>Confirmation of Shannon's Mistake about Perfec...</td>\n",
       "      <td>This paper has been withdrawn</td>\n",
       "      <td>cs.CR</td>\n",
       "    </tr>\n",
       "    <tr>\n",
       "      <th>1996</th>\n",
       "      <td>0712.0392</td>\n",
       "      <td>Collaborative Gain in Resource Sharing Communi...</td>\n",
       "      <td>This paper has been withdrawn</td>\n",
       "      <td>cs.IT math.IT</td>\n",
       "    </tr>\n",
       "    <tr>\n",
       "      <th>2989</th>\n",
       "      <td>0803.1207</td>\n",
       "      <td>Serious Flaws in Korf et al.'s Analysis on Tim...</td>\n",
       "      <td>This paper has been withdrawn.</td>\n",
       "      <td>cs.AI</td>\n",
       "    </tr>\n",
       "    <tr>\n",
       "      <th>...</th>\n",
       "      <td>...</td>\n",
       "      <td>...</td>\n",
       "      <td>...</td>\n",
       "      <td>...</td>\n",
       "    </tr>\n",
       "    <tr>\n",
       "      <th>239666</th>\n",
       "      <td>cs/0703086</td>\n",
       "      <td>A Technical Report On Grid Benchmarking using ...</td>\n",
       "      <td>Grids include heterogeneous resources, which a...</td>\n",
       "      <td>cs.PF</td>\n",
       "    </tr>\n",
       "    <tr>\n",
       "      <th>239683</th>\n",
       "      <td>cs/0703103</td>\n",
       "      <td>Concept of a Value in Multilevel Security Data...</td>\n",
       "      <td>This paper has been withdrawn.</td>\n",
       "      <td>cs.DB</td>\n",
       "    </tr>\n",
       "    <tr>\n",
       "      <th>239826</th>\n",
       "      <td>cs/9609102</td>\n",
       "      <td>Cue Phrase Classification Using Machine Learning</td>\n",
       "      <td>Cue phrases may be used in a discourse sense t...</td>\n",
       "      <td>cs.AI</td>\n",
       "    </tr>\n",
       "    <tr>\n",
       "      <th>239932</th>\n",
       "      <td>cs/9809061</td>\n",
       "      <td>New Applications of the Incompressibility Meth...</td>\n",
       "      <td>The incompressibility method is an elementary ...</td>\n",
       "      <td>cs.CC cs.DM</td>\n",
       "    </tr>\n",
       "    <tr>\n",
       "      <th>241114</th>\n",
       "      <td>quant-ph/0408108</td>\n",
       "      <td>Statistically Secure Quantum Oblivious Transfer</td>\n",
       "      <td>This paper has been withdrawn.</td>\n",
       "      <td>quant-ph cs.CR</td>\n",
       "    </tr>\n",
       "  </tbody>\n",
       "</table>\n",
       "<p>231 rows × 4 columns</p>\n",
       "</div>"
      ],
      "text/plain": [
       "                      id                                              title  \\\n",
       "564            0706.2732        A Design Methodology for Space-Time Adapter   \n",
       "1256           0709.4303               Security Analyses of One-time System   \n",
       "1258           0709.4420  Confirmation of Shannon's Mistake about Perfec...   \n",
       "1996           0712.0392  Collaborative Gain in Resource Sharing Communi...   \n",
       "2989           0803.1207  Serious Flaws in Korf et al.'s Analysis on Tim...   \n",
       "...                  ...                                                ...   \n",
       "239666        cs/0703086  A Technical Report On Grid Benchmarking using ...   \n",
       "239683        cs/0703103  Concept of a Value in Multilevel Security Data...   \n",
       "239826        cs/9609102   Cue Phrase Classification Using Machine Learning   \n",
       "239932        cs/9809061  New Applications of the Incompressibility Meth...   \n",
       "241114  quant-ph/0408108    Statistically Secure Quantum Oblivious Transfer   \n",
       "\n",
       "                                                 abstract      categories  \n",
       "564     This paper presents a solution to efficiently ...           cs.AR  \n",
       "1256                        This paper has been withdrawn           cs.CR  \n",
       "1258                        This paper has been withdrawn           cs.CR  \n",
       "1996                        This paper has been withdrawn   cs.IT math.IT  \n",
       "2989                       This paper has been withdrawn.           cs.AI  \n",
       "...                                                   ...             ...  \n",
       "239666  Grids include heterogeneous resources, which a...           cs.PF  \n",
       "239683                     This paper has been withdrawn.           cs.DB  \n",
       "239826  Cue phrases may be used in a discourse sense t...           cs.AI  \n",
       "239932  The incompressibility method is an elementary ...     cs.CC cs.DM  \n",
       "241114                     This paper has been withdrawn.  quant-ph cs.CR  \n",
       "\n",
       "[231 rows x 4 columns]"
      ]
     },
     "execution_count": 18,
     "metadata": {},
     "output_type": "execute_result"
    }
   ],
   "source": [
    "df[df.abstract.duplicated()]"
   ]
  },
  {
   "cell_type": "markdown",
   "metadata": {},
   "source": [
    "#### Removing duplicates from title and abstract"
   ]
  },
  {
   "cell_type": "code",
   "execution_count": 19,
   "metadata": {},
   "outputs": [
    {
     "data": {
      "text/html": [
       "<div>\n",
       "<style scoped>\n",
       "    .dataframe tbody tr th:only-of-type {\n",
       "        vertical-align: middle;\n",
       "    }\n",
       "\n",
       "    .dataframe tbody tr th {\n",
       "        vertical-align: top;\n",
       "    }\n",
       "\n",
       "    .dataframe thead th {\n",
       "        text-align: right;\n",
       "    }\n",
       "</style>\n",
       "<table border=\"1\" class=\"dataframe\">\n",
       "  <thead>\n",
       "    <tr style=\"text-align: right;\">\n",
       "      <th></th>\n",
       "      <th>id</th>\n",
       "      <th>title</th>\n",
       "      <th>abstract</th>\n",
       "      <th>categories</th>\n",
       "    </tr>\n",
       "  </thead>\n",
       "  <tbody>\n",
       "    <tr>\n",
       "      <th>count</th>\n",
       "      <td>240020</td>\n",
       "      <td>240020</td>\n",
       "      <td>240020</td>\n",
       "      <td>240020</td>\n",
       "    </tr>\n",
       "    <tr>\n",
       "      <th>unique</th>\n",
       "      <td>240020</td>\n",
       "      <td>240020</td>\n",
       "      <td>239859</td>\n",
       "      <td>20501</td>\n",
       "    </tr>\n",
       "    <tr>\n",
       "      <th>top</th>\n",
       "      <td>cs/0407013</td>\n",
       "      <td>Using Discriminative Methods to Learn Fashion ...</td>\n",
       "      <td>This paper has been withdrawn.</td>\n",
       "      <td>cs.CV</td>\n",
       "    </tr>\n",
       "    <tr>\n",
       "      <th>freq</th>\n",
       "      <td>1</td>\n",
       "      <td>1</td>\n",
       "      <td>10</td>\n",
       "      <td>19500</td>\n",
       "    </tr>\n",
       "  </tbody>\n",
       "</table>\n",
       "</div>"
      ],
      "text/plain": [
       "                id                                              title  \\\n",
       "count       240020                                             240020   \n",
       "unique      240020                                             240020   \n",
       "top     cs/0407013  Using Discriminative Methods to Learn Fashion ...   \n",
       "freq             1                                                  1   \n",
       "\n",
       "                              abstract categories  \n",
       "count                           240020     240020  \n",
       "unique                          239859      20501  \n",
       "top     This paper has been withdrawn.      cs.CV  \n",
       "freq                                10      19500  "
      ]
     },
     "execution_count": 19,
     "metadata": {},
     "output_type": "execute_result"
    }
   ],
   "source": [
    "df.drop_duplicates(subset='title', keep='first', inplace=True)\n",
    "df.describe()"
   ]
  },
  {
   "cell_type": "code",
   "execution_count": 20,
   "metadata": {},
   "outputs": [
    {
     "data": {
      "text/html": [
       "<div>\n",
       "<style scoped>\n",
       "    .dataframe tbody tr th:only-of-type {\n",
       "        vertical-align: middle;\n",
       "    }\n",
       "\n",
       "    .dataframe tbody tr th {\n",
       "        vertical-align: top;\n",
       "    }\n",
       "\n",
       "    .dataframe thead th {\n",
       "        text-align: right;\n",
       "    }\n",
       "</style>\n",
       "<table border=\"1\" class=\"dataframe\">\n",
       "  <thead>\n",
       "    <tr style=\"text-align: right;\">\n",
       "      <th></th>\n",
       "      <th>id</th>\n",
       "      <th>title</th>\n",
       "      <th>abstract</th>\n",
       "      <th>categories</th>\n",
       "    </tr>\n",
       "  </thead>\n",
       "  <tbody>\n",
       "    <tr>\n",
       "      <th>count</th>\n",
       "      <td>239859</td>\n",
       "      <td>239859</td>\n",
       "      <td>239859</td>\n",
       "      <td>239859</td>\n",
       "    </tr>\n",
       "    <tr>\n",
       "      <th>unique</th>\n",
       "      <td>239859</td>\n",
       "      <td>239859</td>\n",
       "      <td>239859</td>\n",
       "      <td>20491</td>\n",
       "    </tr>\n",
       "    <tr>\n",
       "      <th>top</th>\n",
       "      <td>cs/0407013</td>\n",
       "      <td>Using Discriminative Methods to Learn Fashion ...</td>\n",
       "      <td>To relax power consumption requirements in mul...</td>\n",
       "      <td>cs.CV</td>\n",
       "    </tr>\n",
       "    <tr>\n",
       "      <th>freq</th>\n",
       "      <td>1</td>\n",
       "      <td>1</td>\n",
       "      <td>1</td>\n",
       "      <td>19492</td>\n",
       "    </tr>\n",
       "  </tbody>\n",
       "</table>\n",
       "</div>"
      ],
      "text/plain": [
       "                id                                              title  \\\n",
       "count       239859                                             239859   \n",
       "unique      239859                                             239859   \n",
       "top     cs/0407013  Using Discriminative Methods to Learn Fashion ...   \n",
       "freq             1                                                  1   \n",
       "\n",
       "                                                 abstract categories  \n",
       "count                                              239859     239859  \n",
       "unique                                             239859      20491  \n",
       "top     To relax power consumption requirements in mul...      cs.CV  \n",
       "freq                                                    1      19492  "
      ]
     },
     "execution_count": 20,
     "metadata": {},
     "output_type": "execute_result"
    }
   ],
   "source": [
    "df.drop_duplicates(subset='abstract', keep='first', inplace=True)\n",
    "df.describe()"
   ]
  },
  {
   "cell_type": "code",
   "execution_count": 21,
   "metadata": {},
   "outputs": [
    {
     "data": {
      "text/html": [
       "<div>\n",
       "<style scoped>\n",
       "    .dataframe tbody tr th:only-of-type {\n",
       "        vertical-align: middle;\n",
       "    }\n",
       "\n",
       "    .dataframe tbody tr th {\n",
       "        vertical-align: top;\n",
       "    }\n",
       "\n",
       "    .dataframe thead th {\n",
       "        text-align: right;\n",
       "    }\n",
       "</style>\n",
       "<table border=\"1\" class=\"dataframe\">\n",
       "  <thead>\n",
       "    <tr style=\"text-align: right;\">\n",
       "      <th></th>\n",
       "      <th>id</th>\n",
       "      <th>title</th>\n",
       "      <th>abstract</th>\n",
       "      <th>categories</th>\n",
       "    </tr>\n",
       "  </thead>\n",
       "  <tbody>\n",
       "    <tr>\n",
       "      <th>0</th>\n",
       "      <td>0704.0002</td>\n",
       "      <td>Sparsity-certifying Graph Decompositions</td>\n",
       "      <td>We describe a new algorithm, the $(k,\\ell)$-pe...</td>\n",
       "      <td>math.CO cs.CG</td>\n",
       "    </tr>\n",
       "    <tr>\n",
       "      <th>1</th>\n",
       "      <td>0704.0046</td>\n",
       "      <td>A limit relation for entropy and channel capac...</td>\n",
       "      <td>In a quantum mechanical model, Diosi, Feldmann...</td>\n",
       "      <td>quant-ph cs.IT math.IT</td>\n",
       "    </tr>\n",
       "    <tr>\n",
       "      <th>2</th>\n",
       "      <td>0704.0047</td>\n",
       "      <td>Intelligent location of simultaneously active ...</td>\n",
       "      <td>The intelligent acoustic emission locator is d...</td>\n",
       "      <td>cs.NE cs.AI</td>\n",
       "    </tr>\n",
       "    <tr>\n",
       "      <th>3</th>\n",
       "      <td>0704.0050</td>\n",
       "      <td>Intelligent location of simultaneously active ...</td>\n",
       "      <td>Part I describes an intelligent acoustic emiss...</td>\n",
       "      <td>cs.NE cs.AI</td>\n",
       "    </tr>\n",
       "    <tr>\n",
       "      <th>4</th>\n",
       "      <td>0704.0062</td>\n",
       "      <td>On-line Viterbi Algorithm and Its Relationship...</td>\n",
       "      <td>In this paper, we introduce the on-line Viterb...</td>\n",
       "      <td>cs.DS</td>\n",
       "    </tr>\n",
       "  </tbody>\n",
       "</table>\n",
       "</div>"
      ],
      "text/plain": [
       "          id                                              title  \\\n",
       "0  0704.0002           Sparsity-certifying Graph Decompositions   \n",
       "1  0704.0046  A limit relation for entropy and channel capac...   \n",
       "2  0704.0047  Intelligent location of simultaneously active ...   \n",
       "3  0704.0050  Intelligent location of simultaneously active ...   \n",
       "4  0704.0062  On-line Viterbi Algorithm and Its Relationship...   \n",
       "\n",
       "                                            abstract              categories  \n",
       "0  We describe a new algorithm, the $(k,\\ell)$-pe...           math.CO cs.CG  \n",
       "1  In a quantum mechanical model, Diosi, Feldmann...  quant-ph cs.IT math.IT  \n",
       "2  The intelligent acoustic emission locator is d...             cs.NE cs.AI  \n",
       "3  Part I describes an intelligent acoustic emiss...             cs.NE cs.AI  \n",
       "4  In this paper, we introduce the on-line Viterb...                   cs.DS  "
      ]
     },
     "execution_count": 21,
     "metadata": {},
     "output_type": "execute_result"
    }
   ],
   "source": [
    "df.head()"
   ]
  },
  {
   "cell_type": "code",
   "execution_count": 22,
   "metadata": {},
   "outputs": [],
   "source": [
    "# 93MB\n",
    "df.to_json(DATA_CLEAN_PATH / \"arxiv_cs.json.gz\", compression='gzip', orient='records')"
   ]
  },
  {
   "cell_type": "code",
   "execution_count": 23,
   "metadata": {},
   "outputs": [
    {
     "data": {
      "text/html": [
       "<div>\n",
       "<style scoped>\n",
       "    .dataframe tbody tr th:only-of-type {\n",
       "        vertical-align: middle;\n",
       "    }\n",
       "\n",
       "    .dataframe tbody tr th {\n",
       "        vertical-align: top;\n",
       "    }\n",
       "\n",
       "    .dataframe thead th {\n",
       "        text-align: right;\n",
       "    }\n",
       "</style>\n",
       "<table border=\"1\" class=\"dataframe\">\n",
       "  <thead>\n",
       "    <tr style=\"text-align: right;\">\n",
       "      <th></th>\n",
       "      <th>id</th>\n",
       "      <th>title</th>\n",
       "      <th>abstract</th>\n",
       "      <th>categories</th>\n",
       "    </tr>\n",
       "  </thead>\n",
       "  <tbody>\n",
       "    <tr>\n",
       "      <th>0</th>\n",
       "      <td>0704.0002</td>\n",
       "      <td>Sparsity-certifying Graph Decompositions</td>\n",
       "      <td>We describe a new algorithm, the $(k,\\ell)$-pe...</td>\n",
       "      <td>math.CO cs.CG</td>\n",
       "    </tr>\n",
       "    <tr>\n",
       "      <th>1</th>\n",
       "      <td>0704.0046</td>\n",
       "      <td>A limit relation for entropy and channel capac...</td>\n",
       "      <td>In a quantum mechanical model, Diosi, Feldmann...</td>\n",
       "      <td>quant-ph cs.IT math.IT</td>\n",
       "    </tr>\n",
       "    <tr>\n",
       "      <th>2</th>\n",
       "      <td>0704.0047</td>\n",
       "      <td>Intelligent location of simultaneously active ...</td>\n",
       "      <td>The intelligent acoustic emission locator is d...</td>\n",
       "      <td>cs.NE cs.AI</td>\n",
       "    </tr>\n",
       "    <tr>\n",
       "      <th>3</th>\n",
       "      <td>0704.0050</td>\n",
       "      <td>Intelligent location of simultaneously active ...</td>\n",
       "      <td>Part I describes an intelligent acoustic emiss...</td>\n",
       "      <td>cs.NE cs.AI</td>\n",
       "    </tr>\n",
       "    <tr>\n",
       "      <th>4</th>\n",
       "      <td>0704.0062</td>\n",
       "      <td>On-line Viterbi Algorithm and Its Relationship...</td>\n",
       "      <td>In this paper, we introduce the on-line Viterb...</td>\n",
       "      <td>cs.DS</td>\n",
       "    </tr>\n",
       "  </tbody>\n",
       "</table>\n",
       "</div>"
      ],
      "text/plain": [
       "          id                                              title  \\\n",
       "0  0704.0002           Sparsity-certifying Graph Decompositions   \n",
       "1  0704.0046  A limit relation for entropy and channel capac...   \n",
       "2  0704.0047  Intelligent location of simultaneously active ...   \n",
       "3  0704.0050  Intelligent location of simultaneously active ...   \n",
       "4  0704.0062  On-line Viterbi Algorithm and Its Relationship...   \n",
       "\n",
       "                                            abstract              categories  \n",
       "0  We describe a new algorithm, the $(k,\\ell)$-pe...           math.CO cs.CG  \n",
       "1  In a quantum mechanical model, Diosi, Feldmann...  quant-ph cs.IT math.IT  \n",
       "2  The intelligent acoustic emission locator is d...             cs.NE cs.AI  \n",
       "3  Part I describes an intelligent acoustic emiss...             cs.NE cs.AI  \n",
       "4  In this paper, we introduce the on-line Viterb...                   cs.DS  "
      ]
     },
     "execution_count": 23,
     "metadata": {},
     "output_type": "execute_result"
    }
   ],
   "source": [
    "df = pd.read_json(DATA_CLEAN_PATH / \"arxiv_cs.json.gz\")\n",
    "df.head()"
   ]
  },
  {
   "cell_type": "code",
   "execution_count": 24,
   "metadata": {},
   "outputs": [
    {
     "data": {
      "text/plain": [
       "239859"
      ]
     },
     "execution_count": 24,
     "metadata": {},
     "output_type": "execute_result"
    }
   ],
   "source": [
    "len(df)"
   ]
  },
  {
   "cell_type": "code",
   "execution_count": 34,
   "metadata": {},
   "outputs": [
    {
     "data": {
      "text/html": [
       "<div>\n",
       "<style scoped>\n",
       "    .dataframe tbody tr th:only-of-type {\n",
       "        vertical-align: middle;\n",
       "    }\n",
       "\n",
       "    .dataframe tbody tr th {\n",
       "        vertical-align: top;\n",
       "    }\n",
       "\n",
       "    .dataframe thead th {\n",
       "        text-align: right;\n",
       "    }\n",
       "</style>\n",
       "<table border=\"1\" class=\"dataframe\">\n",
       "  <thead>\n",
       "    <tr style=\"text-align: right;\">\n",
       "      <th></th>\n",
       "      <th>id</th>\n",
       "      <th>title</th>\n",
       "      <th>abstract</th>\n",
       "      <th>categories</th>\n",
       "    </tr>\n",
       "  </thead>\n",
       "  <tbody>\n",
       "    <tr>\n",
       "      <th>143955</th>\n",
       "      <td>1801.00779</td>\n",
       "      <td>Machine Learning for Building Energy and Indoo...</td>\n",
       "      <td>Machine learning is a promising technique for ...</td>\n",
       "      <td>cs.CY cs.LG</td>\n",
       "    </tr>\n",
       "    <tr>\n",
       "      <th>216689</th>\n",
       "      <td>1908.02322</td>\n",
       "      <td>DpgMedia2019: A Dutch News Dataset for Partisa...</td>\n",
       "      <td>We present a new Dutch news dataset with label...</td>\n",
       "      <td>cs.CL</td>\n",
       "    </tr>\n",
       "    <tr>\n",
       "      <th>12202</th>\n",
       "      <td>1003.3767</td>\n",
       "      <td>Multi-Agent Simulation and Management Practices</td>\n",
       "      <td>Intelligent agents offer a new and exciting wa...</td>\n",
       "      <td>cs.AI cs.CE cs.MA</td>\n",
       "    </tr>\n",
       "    <tr>\n",
       "      <th>180354</th>\n",
       "      <td>1811.08039</td>\n",
       "      <td>Fenchel Lifted Networks: A Lagrange Relaxation...</td>\n",
       "      <td>Despite the recent successes of deep neural ne...</td>\n",
       "      <td>cs.LG stat.ML</td>\n",
       "    </tr>\n",
       "    <tr>\n",
       "      <th>131082</th>\n",
       "      <td>1708.02772</td>\n",
       "      <td>On Maximum Common Subgraph Problems in Series-...</td>\n",
       "      <td>The complexity of the maximum common connected...</td>\n",
       "      <td>cs.DS cs.CC</td>\n",
       "    </tr>\n",
       "  </tbody>\n",
       "</table>\n",
       "</div>"
      ],
      "text/plain": [
       "                id                                              title  \\\n",
       "143955  1801.00779  Machine Learning for Building Energy and Indoo...   \n",
       "216689  1908.02322  DpgMedia2019: A Dutch News Dataset for Partisa...   \n",
       "12202    1003.3767    Multi-Agent Simulation and Management Practices   \n",
       "180354  1811.08039  Fenchel Lifted Networks: A Lagrange Relaxation...   \n",
       "131082  1708.02772  On Maximum Common Subgraph Problems in Series-...   \n",
       "\n",
       "                                                 abstract         categories  \n",
       "143955  Machine learning is a promising technique for ...        cs.CY cs.LG  \n",
       "216689  We present a new Dutch news dataset with label...              cs.CL  \n",
       "12202   Intelligent agents offer a new and exciting wa...  cs.AI cs.CE cs.MA  \n",
       "180354  Despite the recent successes of deep neural ne...      cs.LG stat.ML  \n",
       "131082  The complexity of the maximum common connected...        cs.DS cs.CC  "
      ]
     },
     "execution_count": 34,
     "metadata": {},
     "output_type": "execute_result"
    }
   ],
   "source": [
    "sample = df.sample(n=100, random_state=19)\n",
    "sample.head()"
   ]
  },
  {
   "cell_type": "code",
   "execution_count": 35,
   "metadata": {},
   "outputs": [],
   "source": [
    "sample.to_csv(DATA_CLEAN_PATH / \"sample.csv\", index=False)"
   ]
  },
  {
   "cell_type": "code",
   "execution_count": 36,
   "metadata": {},
   "outputs": [],
   "source": [
    "df.to_csv(DATA_TEST_PATH / \"arxiv-cs.csv\", index=False)"
   ]
  },
  {
   "cell_type": "code",
   "execution_count": 37,
   "metadata": {},
   "outputs": [],
   "source": [
    "df.to_csv(DATA_TEST_PATH / \"arxiv-cs.csv.gz\", index=False, compression='gzip')"
   ]
  },
  {
   "cell_type": "code",
   "execution_count": null,
   "metadata": {},
   "outputs": [],
   "source": []
  }
 ],
 "metadata": {
  "kernelspec": {
   "display_name": "Python [conda env:ds] *",
   "language": "python",
   "name": "conda-env-ds-py"
  },
  "language_info": {
   "codemirror_mode": {
    "name": "ipython",
    "version": 3
   },
   "file_extension": ".py",
   "mimetype": "text/x-python",
   "name": "python",
   "nbconvert_exporter": "python",
   "pygments_lexer": "ipython3",
   "version": "3.7.4"
  }
 },
 "nbformat": 4,
 "nbformat_minor": 2
}

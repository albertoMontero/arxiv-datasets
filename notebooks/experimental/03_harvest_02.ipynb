{
 "cells": [
  {
   "cell_type": "code",
   "execution_count": 1,
   "metadata": {},
   "outputs": [
    {
     "data": {
      "text/html": [
       "<style>.container { width:80% !important; }</style>"
      ],
      "text/plain": [
       "<IPython.core.display.HTML object>"
      ]
     },
     "metadata": {},
     "output_type": "display_data"
    }
   ],
   "source": [
    "from IPython.core.display import display, HTML\n",
    "display(HTML(\"<style>.container { width:80% !important; }</style>\"))"
   ]
  },
  {
   "cell_type": "code",
   "execution_count": 2,
   "metadata": {},
   "outputs": [],
   "source": [
    "import sys\n",
    "sys.path.append('../../arxiv_cs/')\n",
    "\n",
    "%load_ext autoreload\n",
    "%autoreload 2"
   ]
  },
  {
   "cell_type": "code",
   "execution_count": 3,
   "metadata": {},
   "outputs": [],
   "source": [
    "import json\n",
    "import gzip\n",
    "\n",
    "from harvest import harvest"
   ]
  },
  {
   "cell_type": "code",
   "execution_count": 4,
   "metadata": {},
   "outputs": [],
   "source": [
    "parameters = {'verb': 'ListRecords', 'metadataPrefix': 'arXivRaw', 'from': '2019-10-01',\n",
    "                  'until': '2019-10-04', 'set': 'cs'}"
   ]
  },
  {
   "cell_type": "code",
   "execution_count": 5,
   "metadata": {},
   "outputs": [],
   "source": [
    "output_file = \"data/chunks.txt.gz\""
   ]
  },
  {
   "cell_type": "code",
   "execution_count": 6,
   "metadata": {},
   "outputs": [
    {
     "name": "stdout",
     "output_type": "stream",
     "text": [
      "resumption_token:  3999567|1001\n",
      "params:  {'verb': 'ListRecords', 'metadataPrefix': 'arXivRaw', 'from': '2019-10-01', 'until': '2019-10-04', 'set': 'cs'}\n",
      "num_chunks: 1  num_records: 1000\n",
      "sleeping 20 seconds\n",
      "resumption_token:  None\n",
      "params:  {'verb': 'ListRecords', 'metadataPrefix': 'arXivRaw', 'from': '2019-10-01', 'until': '2019-10-04', 'set': 'cs'}\n",
      "num_chunks: 2  num_records: 1465\n",
      "Download finished, with 2 chunks and 1465 records.\n"
     ]
    }
   ],
   "source": [
    "harvest(parameters, output_file)"
   ]
  }
 ],
 "metadata": {
  "kernelspec": {
   "display_name": "Python [conda env:ds] *",
   "language": "python",
   "name": "conda-env-ds-py"
  },
  "language_info": {
   "codemirror_mode": {
    "name": "ipython",
    "version": 3
   },
   "file_extension": ".py",
   "mimetype": "text/x-python",
   "name": "python",
   "nbconvert_exporter": "python",
   "pygments_lexer": "ipython3",
   "version": "3.7.4"
  }
 },
 "nbformat": 4,
 "nbformat_minor": 2
}
